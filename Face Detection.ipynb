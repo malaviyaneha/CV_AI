{
 "cells": [
  {
   "cell_type": "code",
   "execution_count": 22,
   "metadata": {},
   "outputs": [],
   "source": [
    "import cv2 as cv"
   ]
  },
  {
   "cell_type": "code",
   "execution_count": 26,
   "metadata": {},
   "outputs": [],
   "source": [
    "img = cv.imread('D:\\STUDY\\AUTONOMOUS/Mona Lisa.jpg')\n",
    "\n",
    "gray = cv.cvtColor(img,cv.COLOR_BGR2GRAY) \n",
    "#to convert img to grayscale & not 3 channel\n",
    "\n",
    "face_classifier = cv.CascadeClassifier('D:\\STUDY\\AUTONOMOUS/haarcascade_frontalface_default.xml')\n",
    "#to extract the file\n",
    "faces = face_classifier.detectMultiScale(gray,1.4,4)\n",
    "\n",
    "\n",
    "for(x,y,w,h) in faces:\n",
    "    cv.rectangle(img,(x,y),(x+w , y+h),(0,255,0),10)\n",
    "                                        #blue,green,red"
   ]
  },
  {
   "cell_type": "code",
   "execution_count": 27,
   "metadata": {},
   "outputs": [
    {
     "data": {
      "text/plain": [
       "array([[366, 273, 354, 354]], dtype=int32)"
      ]
     },
     "execution_count": 27,
     "metadata": {},
     "output_type": "execute_result"
    }
   ],
   "source": [
    "faces"
   ]
  },
  {
   "cell_type": "code",
   "execution_count": 28,
   "metadata": {},
   "outputs": [
    {
     "data": {
      "text/plain": [
       "True"
      ]
     },
     "execution_count": 28,
     "metadata": {},
     "output_type": "execute_result"
    }
   ],
   "source": [
    "cv.imwrite('Face detection.jpg',img)"
   ]
  },
  {
   "cell_type": "code",
   "execution_count": null,
   "metadata": {},
   "outputs": [],
   "source": []
  }
 ],
 "metadata": {
  "kernelspec": {
   "display_name": "Python 3",
   "language": "python",
   "name": "python3"
  },
  "language_info": {
   "codemirror_mode": {
    "name": "ipython",
    "version": 3
   },
   "file_extension": ".py",
   "mimetype": "text/x-python",
   "name": "python",
   "nbconvert_exporter": "python",
   "pygments_lexer": "ipython3",
   "version": "3.8.5"
  }
 },
 "nbformat": 4,
 "nbformat_minor": 4
}
