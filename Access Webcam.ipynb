{
 "cells": [
  {
   "cell_type": "code",
   "execution_count": 1,
   "metadata": {},
   "outputs": [],
   "source": [
    "import cv2 as cv"
   ]
  },
  {
   "cell_type": "code",
   "execution_count": 2,
   "metadata": {},
   "outputs": [],
   "source": [
    "cam = cv.VideoCapture(1) \n",
    "#to access webcam(0=inbuilt,1=multiple)\n",
    "\n",
    "#to go frame by frame of img and display it\n",
    "while True:\n",
    "    \n",
    "    _,frame = cam.read() #reading each frame from video,ret= return if video finish\n",
    "    frame = cv.flip(frame,1) #to flip image 0 = flippled\n",
    "    \n",
    "    cv.imshow('Webcam',frame)\n",
    "    \n",
    "    key = cv.waitKey(10) #to wait will return if key pressed\n",
    "    \n",
    "    if key == 27:    #ESC key then it will check key value(27)\n",
    "        break\n",
    "\n",
    "cam.release()"
   ]
  },
  {
   "cell_type": "code",
   "execution_count": null,
   "metadata": {},
   "outputs": [],
   "source": []
  },
  {
   "cell_type": "code",
   "execution_count": null,
   "metadata": {},
   "outputs": [],
   "source": []
  },
  {
   "cell_type": "code",
   "execution_count": null,
   "metadata": {},
   "outputs": [],
   "source": []
  },
  {
   "cell_type": "code",
   "execution_count": 2,
   "metadata": {},
   "outputs": [],
   "source": [
    "face_classifier = cv.CascadeClassifier('D:\\STUDY\\AUTONOMOUS/haarcascade_frontalface_default.xml')\n",
    "cam = cv.VideoCapture(1)\n",
    "#to access webcam(0=inbuilt,1=multiple)\n",
    "\n",
    "#to go frame by frame of img and display it\n",
    "while True:\n",
    "    \n",
    "    _,frame = cam.read() #reading each frame,ret= return if video finish\n",
    "    frame = cv.flip(frame,1) #to flip image 0 = flippled and \n",
    "    gray = cv.cvtColor(frame,cv.COLOR_BGR2GRAY)  #convert to grey scale\n",
    "    \n",
    "    faces = face_classifier.detectMultiScale(gray,1.4,4)  #no of faces detecting and uske cordinates\n",
    "    \n",
    "    \n",
    "    for(x,y,w,h) in faces:\n",
    "        cv.rectangle(frame,(x,y),(x+w , y+h),(0,255,0),2)\n",
    "                                        #blue,green,red\n",
    "        \n",
    "    cv.imshow('Webcam',frame)\n",
    "    \n",
    "    key = cv.waitKey(10) #will return if key pressed , millisec mae wait \n",
    "    \n",
    "    if key == 27:    #ESC key then it will check key value(27)\n",
    "        break\n",
    "\n",
    "cam.release()"
   ]
  },
  {
   "cell_type": "code",
   "execution_count": null,
   "metadata": {},
   "outputs": [],
   "source": []
  }
 ],
 "metadata": {
  "kernelspec": {
   "display_name": "Python 3",
   "language": "python",
   "name": "python3"
  },
  "language_info": {
   "codemirror_mode": {
    "name": "ipython",
    "version": 3
   },
   "file_extension": ".py",
   "mimetype": "text/x-python",
   "name": "python",
   "nbconvert_exporter": "python",
   "pygments_lexer": "ipython3",
   "version": "3.8.5"
  }
 },
 "nbformat": 4,
 "nbformat_minor": 4
}
